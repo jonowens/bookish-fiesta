{
 "metadata": {
  "language_info": {
   "codemirror_mode": {
    "name": "ipython",
    "version": 3
   },
   "file_extension": ".py",
   "mimetype": "text/x-python",
   "name": "python",
   "nbconvert_exporter": "python",
   "pygments_lexer": "ipython3",
   "version": "3.7.7-final"
  },
  "orig_nbformat": 2,
  "kernelspec": {
   "name": "python3",
   "display_name": "Python 3",
   "language": "python"
  }
 },
 "nbformat": 4,
 "nbformat_minor": 2,
 "cells": [
  {
   "source": [
    "# Analyzer of Stocks\n"
   ],
   "cell_type": "markdown",
   "metadata": {}
  },
  {
   "cell_type": "code",
   "execution_count": 1,
   "metadata": {},
   "outputs": [],
   "source": [
    "# Import necessary libraries\n",
    "from dotenv import load_dotenv\n",
    "import alpaca_trade_api as trade_api\n",
    "import os\n",
    "import pandas as pd\n"
   ]
  },
  {
   "cell_type": "code",
   "execution_count": 2,
   "metadata": {},
   "outputs": [
    {
     "output_type": "execute_result",
     "data": {
      "text/plain": [
       "True"
      ]
     },
     "metadata": {},
     "execution_count": 2
    }
   ],
   "source": [
    "load_dotenv()\n"
   ]
  },
  {
   "cell_type": "code",
   "execution_count": 3,
   "metadata": {},
   "outputs": [],
   "source": [
    "# Get keys and URL for Alpaca API\n",
    "alpaca_key = os.getenv('APCA_API_KEY_ID')\n",
    "alpaca_secret_key = os.getenv('APCA_API_SECRET_KEY')\n",
    "alpaca_paper_trade_url = os.getenv('APCA_API_PAPER_URL')\n"
   ]
  },
  {
   "cell_type": "code",
   "execution_count": 4,
   "metadata": {},
   "outputs": [],
   "source": [
    "# Instantiate Alpaca connection\n",
    "broker_connection = trade_api.REST(alpaca_key, alpaca_secret_key, base_url=alpaca_paper_trade_url)\n"
   ]
  },
  {
   "cell_type": "code",
   "execution_count": 21,
   "metadata": {},
   "outputs": [
    {
     "output_type": "execute_result",
     "data": {
      "text/plain": [
       "'2020-01-01T00:00:00-05:00'"
      ]
     },
     "metadata": {},
     "execution_count": 21
    }
   ],
   "source": [
    "# Default parameters\n",
    "ticker = 'TWOU'\n",
    "start_date = pd.Timestamp('2020-01-01', tz='America/New_York').isoformat()\n",
    "\n",
    "today = pd.Timestamp('today')\n",
    "today = f'{today:%Y-%m-%d}'\n",
    "\n",
    "end_date = pd.Timestamp(today, tz='America/New_York').isoformat()\n",
    "\n",
    "timeframe = '1H'\n"
   ]
  },
  {
   "cell_type": "code",
   "execution_count": null,
   "metadata": {},
   "outputs": [],
   "source": []
  }
 ]
}